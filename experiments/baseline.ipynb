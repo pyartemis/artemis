{
 "cells": [
  {
   "cell_type": "code",
   "execution_count": 199,
   "metadata": {
    "collapsed": true
   },
   "outputs": [],
   "source": [
    "import numpy as np\n",
    "import pandas as pd\n",
    "from sklearn.ensemble import RandomForestRegressor\n",
    "from artemis.interactions_methods.model_agnostic import FriedmanHStatisticMethod, GreenwellMethod, SejongOhMethod\n",
    "from tqdm import tqdm\n",
    "from sklearn.linear_model import LinearRegression\n",
    "from artemis.utilities.domain import InteractionMethod\n",
    "from sklearn.neural_network import MLPRegressor\n",
    "from artemis.additivity import AdditivityMeter"
   ]
  },
  {
   "cell_type": "markdown",
   "metadata": {},
   "source": [
    "$$\n",
    "Y = B_1 * X_1 + B_2 * X2 + B_3 * X_3 + B4 (X1 * X2) + \\(\\epsilon\\)\n",
    "$$"
   ]
  },
  {
   "cell_type": "code",
   "execution_count": 182,
   "metadata": {},
   "outputs": [],
   "source": [
    "N = 100\n",
    "lower = -5\n",
    "upper = 5\n",
    "\n",
    "betas = np.array([3, -7, 10, 2])\n",
    "\n",
    "X = pd.DataFrame(np.random.uniform(lower, upper, size=(N, 3)), columns=[\"x1\", \"x2\", \"x3\"])\n",
    "eps = np.random.uniform(size=(N,))\n",
    "y = X.apply(lambda row: np.dot(np.append(row, row[\"x1\"]*row[\"x2\"]), betas), axis=1)\n",
    "y = y + eps\n"
   ]
  },
  {
   "cell_type": "code",
   "execution_count": 191,
   "metadata": {},
   "outputs": [],
   "source": [
    "models = [(\"linear\", LinearRegression()), (\"random_forest\", RandomForestRegressor()), (\"neural_network\", MLPRegressor(hidden_layer_sizes=(5, 2), max_iter=20000))]"
   ]
  },
  {
   "cell_type": "code",
   "execution_count": 192,
   "metadata": {},
   "outputs": [],
   "source": [
    "for name, model in models:\n",
    "    model.fit(X, y)"
   ]
  },
  {
   "cell_type": "code",
   "execution_count": 193,
   "metadata": {},
   "outputs": [
    {
     "name": "stderr",
     "output_type": "stream",
     "text": [
      "  0%|          | 0/3 [00:00<?, ?it/s]\n",
      "  0%|          | 0/3 [00:00<?, ?it/s]\u001B[A\n",
      " 33%|███▎      | 1/3 [00:00<00:01,  1.54it/s]\u001B[A\n",
      " 67%|██████▋   | 2/3 [00:21<00:12, 12.41s/it]\u001B[A\n",
      "100%|██████████| 3/3 [00:21<00:00,  7.16s/it]\u001B[A\n",
      " 33%|███▎      | 1/3 [00:21<00:42, 21.48s/it]\n",
      "  0%|          | 0/3 [00:00<?, ?it/s]\u001B[A\n",
      " 33%|███▎      | 1/3 [00:01<00:02,  1.00s/it]\u001B[A\n",
      " 67%|██████▋   | 2/3 [00:38<00:22, 22.35s/it]\u001B[A\n",
      "100%|██████████| 3/3 [00:39<00:00, 13.21s/it]\u001B[A\n",
      " 67%|██████▋   | 2/3 [01:01<00:32, 32.16s/it]\n",
      "  0%|          | 0/3 [00:00<?, ?it/s]\u001B[A\n",
      " 33%|███▎      | 1/3 [00:00<00:01,  1.62it/s]\u001B[A\n",
      " 67%|██████▋   | 2/3 [00:21<00:12, 12.78s/it]\u001B[A\n",
      "100%|██████████| 3/3 [00:22<00:00,  7.37s/it]\u001B[A\n",
      "100%|██████████| 3/3 [01:23<00:00, 27.75s/it]\n"
     ]
    }
   ],
   "source": [
    "result = list()\n",
    "for name, model in tqdm(models):\n",
    "    methods_model_agnostic = [FriedmanHStatisticMethod(), GreenwellMethod(), SejongOhMethod()]\n",
    "\n",
    "    for method in tqdm(methods_model_agnostic):\n",
    "\n",
    "        if method.method == InteractionMethod.PERFORMANCE_BASED:\n",
    "            method.fit(model, X, y_true=y)\n",
    "        else:\n",
    "            method.fit(model, X)\n",
    "\n",
    "        result.append({\"model\": name, \"method\": method.method, \"ovo\": method.ovo})\n"
   ]
  },
  {
   "cell_type": "code",
   "execution_count": 194,
   "metadata": {},
   "outputs": [],
   "source": [
    "result = pd.DataFrame.from_records(result)"
   ]
  },
  {
   "cell_type": "markdown",
   "metadata": {},
   "source": [
    "Due to its nature, linear model is unable to detect feature interactions.\n",
    "Therefore, as a sanity-check of interaction method correctness, we check if all methods have interaction values that are close to 0."
   ]
  },
  {
   "cell_type": "code",
   "execution_count": 195,
   "metadata": {},
   "outputs": [],
   "source": [
    "THRESHOLD = 10**(-6)"
   ]
  },
  {
   "cell_type": "code",
   "execution_count": 196,
   "metadata": {},
   "outputs": [
    {
     "name": "stdout",
     "output_type": "stream",
     "text": [
      "\n",
      "\n",
      "Method: Friedman H-statistic Interaction Measure\n",
      "  Feature 1 Feature 2  is_below_threshold\n",
      "0        x1        x2                True\n",
      "1        x1        x3                True\n",
      "2        x2        x3                True\n",
      "--------------------------------------------------\n",
      "\n",
      "\n",
      "Method: Greenwell Variable Interaction Measure\n",
      "  Feature 1 Feature 2  is_below_threshold\n",
      "0        x1        x2                True\n",
      "1        x2        x3                True\n",
      "2        x1        x3                True\n",
      "--------------------------------------------------\n",
      "\n",
      "\n",
      "Method: Sejong Oh Performance Based Interaction Measure\n",
      "  Feature 1 Feature 2  is_below_threshold\n",
      "0        x2        x3               False\n",
      "1        x1        x2               False\n",
      "2        x1        x3               False\n",
      "--------------------------------------------------\n"
     ]
    }
   ],
   "source": [
    "for method in [InteractionMethod.H_STATISTIC, InteractionMethod.VARIABLE_INTERACTION, InteractionMethod.PERFORMANCE_BASED]:\n",
    "\n",
    "    print(f\"\\n\\nMethod: {method}\")\n",
    "    df = result.loc[(result[\"model\"] == \"linear\") & (result[\"method\"] == method), \"ovo\"].iloc[0].copy()\n",
    "    df[\"is_below_threshold\"] = np.abs(df[method]) < THRESHOLD\n",
    "    print(df[[\"Feature 1\", \"Feature 2\", \"is_below_threshold\"]])\n",
    "    print(\"-\"*50)"
   ]
  },
  {
   "cell_type": "markdown",
   "metadata": {},
   "source": [
    "As we can see, `Sejong Oh Performance Based Interaction` falsely detects interactions in the linear model. It suggests its high limitations."
   ]
  },
  {
   "cell_type": "code",
   "execution_count": 197,
   "metadata": {},
   "outputs": [
    {
     "name": "stdout",
     "output_type": "stream",
     "text": [
      "\n",
      "\n",
      "Method: Friedman H-statistic Interaction Measure\n",
      "  Feature 1 Feature 2  Friedman H-statistic Interaction Measure\n",
      "0        x1        x2                                  0.167411\n",
      "1        x2        x3                                  0.010174\n",
      "2        x1        x3                                  0.003444\n",
      "--------------------------------------------------\n",
      "\n",
      "\n",
      "Method: Greenwell Variable Interaction Measure\n",
      "  Feature 1 Feature 2  Greenwell Variable Interaction Measure\n",
      "0        x1        x2                                7.798291\n",
      "1        x2        x3                                2.054487\n",
      "2        x1        x3                                1.346485\n",
      "--------------------------------------------------\n",
      "\n",
      "\n",
      "Method: Sejong Oh Performance Based Interaction Measure\n",
      "  Feature 1 Feature 2  Sejong Oh Performance Based Interaction Measure\n",
      "0        x1        x3                                        11.629588\n",
      "1        x2        x3                                        11.547316\n",
      "2        x1        x2                                         9.706754\n",
      "--------------------------------------------------\n"
     ]
    }
   ],
   "source": [
    "for method in [InteractionMethod.H_STATISTIC, InteractionMethod.VARIABLE_INTERACTION, InteractionMethod.PERFORMANCE_BASED]:\n",
    "\n",
    "    print(f\"\\n\\nMethod: {method}\")\n",
    "    df = result.loc[(result[\"model\"] == \"random_forest\") & (result[\"method\"] == method), \"ovo\"].iloc[0].copy()\n",
    "    print(df)\n",
    "    print(\"-\"*50)"
   ]
  },
  {
   "cell_type": "markdown",
   "metadata": {},
   "source": [
    "In case of ` RandomForest`, both `Friedman H-statistic` and `Greenwell Variable interaction` seem to correctly capture `x1 - x2` non-additive influence (interaction). Again, `Sejong Oh Performance Based Interaction` falsely claims that `x1 - x3` interaction is the strongest. What's more, it puts `x1 - x2` lowest in the interaction ranking. This suggests it's high limitations to correctly detect feature interactions."
   ]
  },
  {
   "cell_type": "code",
   "execution_count": 198,
   "metadata": {},
   "outputs": [
    {
     "name": "stdout",
     "output_type": "stream",
     "text": [
      "\n",
      "\n",
      "Method: Friedman H-statistic Interaction Measure\n",
      "  Feature 1 Feature 2  Friedman H-statistic Interaction Measure\n",
      "0        x1        x2                                  0.313712\n",
      "1        x1        x3                                  0.000631\n",
      "2        x2        x3                                  0.000348\n",
      "--------------------------------------------------\n",
      "\n",
      "\n",
      "Method: Greenwell Variable Interaction Measure\n",
      "  Feature 1 Feature 2  Greenwell Variable Interaction Measure\n",
      "0        x1        x2                               11.961972\n",
      "1        x1        x3                                0.438776\n",
      "2        x2        x3                                0.368430\n",
      "--------------------------------------------------\n",
      "\n",
      "\n",
      "Method: Sejong Oh Performance Based Interaction Measure\n",
      "  Feature 1 Feature 2  Sejong Oh Performance Based Interaction Measure\n",
      "0        x1        x2                                        21.175629\n",
      "1        x1        x3                                        17.295130\n",
      "2        x2        x3                                        15.504304\n",
      "--------------------------------------------------\n"
     ]
    }
   ],
   "source": [
    "for method in [InteractionMethod.H_STATISTIC, InteractionMethod.VARIABLE_INTERACTION, InteractionMethod.PERFORMANCE_BASED]:\n",
    "\n",
    "    print(f\"\\n\\nMethod: {method}\")\n",
    "    df = result.loc[(result[\"model\"] == \"neural_network\") & (result[\"method\"] == method), \"ovo\"].iloc[0].copy()\n",
    "    print(df)\n",
    "    print(\"-\"*50)"
   ]
  },
  {
   "cell_type": "markdown",
   "metadata": {},
   "source": [
    "In case of `MLP`, all of the methods correctly capture `x1 - x2` as the highest interaction. `Friedman H-statistic` and `Greenwell Variable interaction` values are negligible for pairs different to the actual interaction (`x1 - x2`). It may suggest their capability to correctly capture feature interactions. For well-performing model such as `MLP`, performance-based `Sejong Oh Performance Based Interaction` correctly indicates `x1 - x2` as the most relevant. This may suggest, that for well-performing models such as neural networks, performance-based methods may produce good results. Nevertheless, non-existing interaction values between `x1 - x3` and `x2 - x3` have high interaction values."
   ]
  },
  {
   "cell_type": "code",
   "execution_count": 200,
   "metadata": {},
   "outputs": [],
   "source": [
    "additivity_meter = AdditivityMeter()"
   ]
  },
  {
   "cell_type": "code",
   "execution_count": 201,
   "metadata": {},
   "outputs": [
    {
     "name": "stderr",
     "output_type": "stream",
     "text": [
      "100%|██████████| 3/3 [00:00<00:00,  4.88it/s]\n"
     ]
    }
   ],
   "source": [
    "additivity = list()\n",
    "for name, model in tqdm(models):\n",
    "    additivity_meter.fit(model, X)\n",
    "    additivity.append({\"model\": name, \"additivity\": additivity_meter.additivity_index})"
   ]
  },
  {
   "cell_type": "code",
   "execution_count": 202,
   "metadata": {},
   "outputs": [
    {
     "data": {
      "text/html": [
       "<div>\n",
       "<style scoped>\n",
       "    .dataframe tbody tr th:only-of-type {\n",
       "        vertical-align: middle;\n",
       "    }\n",
       "\n",
       "    .dataframe tbody tr th {\n",
       "        vertical-align: top;\n",
       "    }\n",
       "\n",
       "    .dataframe thead th {\n",
       "        text-align: right;\n",
       "    }\n",
       "</style>\n",
       "<table border=\"1\" class=\"dataframe\">\n",
       "  <thead>\n",
       "    <tr style=\"text-align: right;\">\n",
       "      <th></th>\n",
       "      <th>model</th>\n",
       "      <th>additivity</th>\n",
       "    </tr>\n",
       "  </thead>\n",
       "  <tbody>\n",
       "    <tr>\n",
       "      <th>0</th>\n",
       "      <td>linear</td>\n",
       "      <td>1.000000</td>\n",
       "    </tr>\n",
       "    <tr>\n",
       "      <th>1</th>\n",
       "      <td>random_forest</td>\n",
       "      <td>0.913495</td>\n",
       "    </tr>\n",
       "    <tr>\n",
       "      <th>2</th>\n",
       "      <td>neural_network</td>\n",
       "      <td>0.867561</td>\n",
       "    </tr>\n",
       "  </tbody>\n",
       "</table>\n",
       "</div>"
      ],
      "text/plain": [
       "            model  additivity\n",
       "0          linear    1.000000\n",
       "1   random_forest    0.913495\n",
       "2  neural_network    0.867561"
      ]
     },
     "execution_count": 202,
     "metadata": {},
     "output_type": "execute_result"
    }
   ],
   "source": [
    "pd.DataFrame.from_records(additivity)"
   ]
  },
  {
   "cell_type": "markdown",
   "metadata": {},
   "source": [
    "As we can see, the more complex the model is, the less additive nature it has (with linear model having perfect 1.0 additivity). This measure clearly depicts how much variance in each model is explained by interactions between features."
   ]
  }
 ],
 "metadata": {
  "kernelspec": {
   "display_name": "Python 3 (ipykernel)",
   "language": "python",
   "name": "python3"
  },
  "language_info": {
   "codemirror_mode": {
    "name": "ipython",
    "version": 3
   },
   "file_extension": ".py",
   "mimetype": "text/x-python",
   "name": "python",
   "nbconvert_exporter": "python",
   "pygments_lexer": "ipython3",
   "version": "3.9.6"
  }
 },
 "nbformat": 4,
 "nbformat_minor": 1
}
